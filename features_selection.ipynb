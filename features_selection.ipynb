{
 "cells": [
  {
   "cell_type": "markdown",
   "id": "836412dc",
   "metadata": {},
   "source": [
    "# Features selection\n",
    "---"
   ]
  },
  {
   "cell_type": "code",
   "execution_count": 1,
   "id": "6c805352",
   "metadata": {},
   "outputs": [],
   "source": [
    "import pandas as pd\n",
    "import numpy as np\n",
    "import scipy.sparse\n",
    "import time\n",
    "np.set_printoptions(suppress=True)\n",
    "import operator\n",
    "import time"
   ]
  },
  {
   "cell_type": "markdown",
   "id": "b1464d7e",
   "metadata": {},
   "source": [
    "# Freq, Freq2, Unique Dict"
   ]
  },
  {
   "cell_type": "code",
   "execution_count": 2,
   "id": "ada7cb2e",
   "metadata": {},
   "outputs": [],
   "source": [
    "def generateUniqueDict(X):\n",
    "    (unique, counts) = np.unique(X, return_counts=True)\n",
    "    output = dict()\n",
    "    for index, name in enumerate(unique):\n",
    "        output[name] = index\n",
    "    return output\n"
   ]
  },
  {
   "cell_type": "code",
   "execution_count": 16,
   "id": "2b2220c9",
   "metadata": {},
   "outputs": [],
   "source": [
    "def freq(X, prob=True):\n",
    "    (unique, counts) = np.unique(X, return_counts=True)\n",
    "    if prob:\n",
    "        return unique, counts / (np.size(X))\n",
    "    return unique, counts\n",
    "    \n",
    "\n",
    "\n",
    "def freq2(X, Y, prob=True):\n",
    "    if scipy.sparse.issparse(X):\n",
    "        pij = np.zeros((2,2))\n",
    "        xy, x_ind, y_ind = np.intersect1d(X.indices, Y.indices, return_indices=True)\n",
    "        if prob:\n",
    "            pij[1, 1] = (xy.shape[0])/X.shape[0]\n",
    "            pij[0, 1] = (-xy.shape[0] + Y.indices.shape[0]) / X.shape[0]\n",
    "            pij[1, 0] = (-xy.shape[0] + X.indices.shape[0]) / X.shape[0]\n",
    "            pij[0, 0] = 1 - np.sum(pij)       \n",
    "        else:\n",
    "            pij[1, 1] = (xy.shape[0])\n",
    "            pij[0, 1] = (-xy.shape[0] + Y.indices.shape[0])\n",
    "            pij[1, 0] = (-xy.shape[0] + X.indices.shape[0])\n",
    "            pij[0, 0] = X.shape[0] - np.sum(pij)      \n",
    "        return pij\n",
    "    else:\n",
    "        dictX = generateUniqueDict(X)\n",
    "        dictY = generateUniqueDict(Y)\n",
    "        nij = np.zeros((len(dictX), len(dictY)))\n",
    "        for Xvalue, Yvalue in zip(X, Y):\n",
    "            nij[dictX[Xvalue], dictY[Yvalue]] += 1\n",
    "        if prob:\n",
    "            return nij/np.sum(nij)\n",
    "        return nij"
   ]
  },
  {
   "cell_type": "markdown",
   "id": "e40af626",
   "metadata": {},
   "source": [
    "# Entropy and infogain"
   ]
  },
  {
   "cell_type": "code",
   "execution_count": 11,
   "id": "c7e34970",
   "metadata": {},
   "outputs": [],
   "source": [
    "def entropy(pij):\n",
    "    pij += 1e-16\n",
    "    return -np.sum(pij * np.log2(pij))"
   ]
  },
  {
   "cell_type": "code",
   "execution_count": 12,
   "id": "4643ad70",
   "metadata": {},
   "outputs": [],
   "source": [
    "def infoGain(pij):\n",
    "    return entropy(np.sum(pij, axis=0)) + entropy(np.sum(pij, axis=1)) - entropy(pij)"
   ]
  },
  {
   "cell_type": "markdown",
   "id": "0eb1bccc",
   "metadata": {},
   "source": [
    "# Kappa, gini and ginigain"
   ]
  },
  {
   "cell_type": "code",
   "execution_count": 13,
   "id": "b3121853",
   "metadata": {},
   "outputs": [],
   "source": [
    "def kappa(pij):\n",
    "    return infoGain(pij) / entropy(np.sum(pij, axis=0))\n",
    "\n",
    "def gini(pij):\n",
    "    return 1 - np.sum(np.square(pij))\n",
    "\n",
    "def giniGain(pij):\n",
    "    suma = 0\n",
    "    k = pij.shape[0]\n",
    "    for i in range(k):\n",
    "        pi = np.sum(pij[i, :])\n",
    "        \n",
    "        suma += gini(pij[i, :]/pi)*pi\n",
    "    return gini(np.sum(pij, axis=0)) - suma"
   ]
  },
  {
   "cell_type": "markdown",
   "id": "87c4a09d",
   "metadata": {},
   "source": [
    "# Zoo.csv\n"
   ]
  },
  {
   "cell_type": "code",
   "execution_count": 14,
   "id": "0940eff8",
   "metadata": {
    "scrolled": false
   },
   "outputs": [],
   "source": [
    "zoo_df = pd.read_csv('zoo.csv')\n",
    "zoo_df[\"legs\"] = zoo_df[\"legs\"] > 2\n",
    "Y = zoo_df[\"type\"]\n",
    "info_gain_zoo = {}\n",
    "gini_gain_zoo = {}\n",
    "\n",
    "for column in zoo_df.columns[1:-1]:\n",
    "    uniqueX, uniqueY, pij = freq2(zoo_df[column], Y)\n",
    "    info_gain_zoo[column] = infoGain(pij)\n",
    "    gini_gain_zoo[column] = giniGain(pij)\n",
    "    "
   ]
  },
  {
   "cell_type": "markdown",
   "id": "f2b510c2",
   "metadata": {},
   "source": [
    "### Zoo - infoGain"
   ]
  },
  {
   "cell_type": "code",
   "execution_count": 15,
   "id": "219f670d",
   "metadata": {
    "scrolled": false
   },
   "outputs": [
    {
     "data": {
      "text/plain": [
       "{'milk': 0.9743197211096528,\n",
       " 'toothed': 0.8656941534932092,\n",
       " 'eggs': 0.830138448363325,\n",
       " 'hair': 0.7906745736101515,\n",
       " 'feathers': 0.7179499765002539,\n",
       " 'backbone': 0.6761627418828824,\n",
       " 'breathes': 0.6144940279390272,\n",
       " 'legs': 0.5303795375579381,\n",
       " 'tail': 0.5004604482514798,\n",
       " 'airborne': 0.4697026095047505,\n",
       " 'fins': 0.46661356715035707,\n",
       " 'aquatic': 0.3894874837982054,\n",
       " 'catsize': 0.30849034491426863,\n",
       " 'venomous': 0.13308962953511028,\n",
       " 'predator': 0.09344704054082831,\n",
       " 'domestic': 0.050668779845500556}"
      ]
     },
     "execution_count": 15,
     "metadata": {},
     "output_type": "execute_result"
    }
   ],
   "source": [
    "dict(sorted(info_gain_zoo.items(), key=operator.itemgetter(1),reverse=True))"
   ]
  },
  {
   "cell_type": "markdown",
   "id": "e2784afc",
   "metadata": {},
   "source": [
    "### Zoo - giniGain"
   ]
  },
  {
   "cell_type": "code",
   "execution_count": 9,
   "id": "b1909bee",
   "metadata": {
    "scrolled": true
   },
   "outputs": [
    {
     "data": {
      "text/plain": [
       "{'milk': 0.2930006862072322,\n",
       " 'eggs': 0.2623459742469322,\n",
       " 'hair': 0.23785606188112696,\n",
       " 'feathers': 0.20854890769604761,\n",
       " 'toothed': 0.19175900466202866,\n",
       " 'breathes': 0.13313505678714754,\n",
       " 'backbone': 0.12283752531282988,\n",
       " 'airborne': 0.11945904632895898,\n",
       " 'legs': 0.10662522513171346,\n",
       " 'fins': 0.09975665592185101,\n",
       " 'catsize': 0.09484192296248717,\n",
       " 'tail': 0.07208674865963194,\n",
       " 'aquatic': 0.07126928229761087,\n",
       " 'venomous': 0.02610512568343848,\n",
       " 'predator': 0.011136785531450921,\n",
       " 'domestic': 0.009077678521848709}"
      ]
     },
     "execution_count": 9,
     "metadata": {},
     "output_type": "execute_result"
    }
   ],
   "source": [
    "dict(sorted(gini_gain_zoo.items(), key=operator.itemgetter(1),reverse=True))"
   ]
  },
  {
   "cell_type": "markdown",
   "id": "d7f724d0",
   "metadata": {},
   "source": [
    "\n",
    "\n",
    "\n",
    "\n",
    "\n",
    "\n",
    "# Reuters"
   ]
  },
  {
   "cell_type": "code",
   "execution_count": 17,
   "id": "12b83871",
   "metadata": {},
   "outputs": [],
   "source": [
    "from scipy.sparse import coo_matrix\n",
    "from sklearn.datasets import fetch_rcv1\n",
    "from sklearn.utils import resample\n",
    "from scipy.sparse import csr_matrix\n",
    "from scipy.sparse import csc_matrix"
   ]
  },
  {
   "cell_type": "code",
   "execution_count": 18,
   "id": "2d639bdd",
   "metadata": {},
   "outputs": [],
   "source": [
    "rcv1 = fetch_rcv1()"
   ]
  },
  {
   "cell_type": "code",
   "execution_count": 19,
   "id": "62be7b92",
   "metadata": {
    "scrolled": false
   },
   "outputs": [
    {
     "data": {
      "text/plain": [
       "array(['C11', 'C12', 'C13', 'C14', 'C15', 'C151', 'C1511', 'C152', 'C16',\n",
       "       'C17', 'C171', 'C172', 'C173', 'C174', 'C18', 'C181', 'C182',\n",
       "       'C183', 'C21', 'C22', 'C23', 'C24', 'C31', 'C311', 'C312', 'C313',\n",
       "       'C32', 'C33', 'C331', 'C34', 'C41', 'C411', 'C42', 'CCAT', 'E11',\n",
       "       'E12', 'E121', 'E13', 'E131', 'E132', 'E14', 'E141', 'E142',\n",
       "       'E143', 'E21', 'E211', 'E212', 'E31', 'E311', 'E312', 'E313',\n",
       "       'E41', 'E411', 'E51', 'E511', 'E512', 'E513', 'E61', 'E71', 'ECAT',\n",
       "       'G15', 'G151', 'G152', 'G153', 'G154', 'G155', 'G156', 'G157',\n",
       "       'G158', 'G159', 'GCAT', 'GCRIM', 'GDEF', 'GDIP', 'GDIS', 'GENT',\n",
       "       'GENV', 'GFAS', 'GHEA', 'GJOB', 'GMIL', 'GOBIT', 'GODD', 'GPOL',\n",
       "       'GPRO', 'GREL', 'GSCI', 'GSPO', 'GTOUR', 'GVIO', 'GVOTE', 'GWEA',\n",
       "       'GWELF', 'M11', 'M12', 'M13', 'M131', 'M132', 'M14', 'M141',\n",
       "       'M142', 'M143', 'MCAT'], dtype=object)"
      ]
     },
     "execution_count": 19,
     "metadata": {},
     "output_type": "execute_result"
    }
   ],
   "source": [
    "rcv1.target_names"
   ]
  },
  {
   "cell_type": "code",
   "execution_count": 20,
   "id": "0bb74f7d",
   "metadata": {},
   "outputs": [],
   "source": [
    "X = rcv1.data\n",
    "Y = rcv1.target[:, 89]"
   ]
  },
  {
   "cell_type": "code",
   "execution_count": 21,
   "id": "67cf2377",
   "metadata": {},
   "outputs": [],
   "source": [
    "X = X>0"
   ]
  },
  {
   "cell_type": "code",
   "execution_count": 22,
   "id": "65c9cffb",
   "metadata": {},
   "outputs": [],
   "source": [
    "X = X.tocsc()\n",
    "Y = Y.tocsc()"
   ]
  },
  {
   "cell_type": "code",
   "execution_count": 23,
   "id": "aded5dd9",
   "metadata": {},
   "outputs": [
    {
     "data": {
      "text/plain": [
       "<804414x47236 sparse matrix of type '<class 'numpy.bool_'>'\n",
       "\twith 60915113 stored elements in Compressed Sparse Column format>"
      ]
     },
     "execution_count": 23,
     "metadata": {},
     "output_type": "execute_result"
    }
   ],
   "source": [
    "X"
   ]
  },
  {
   "cell_type": "code",
   "execution_count": 17,
   "id": "a77b0119",
   "metadata": {
    "scrolled": true
   },
   "outputs": [
    {
     "data": {
      "text/plain": [
       "(804414, 47236)"
      ]
     },
     "execution_count": 17,
     "metadata": {},
     "output_type": "execute_result"
    }
   ],
   "source": [
    "X.shape"
   ]
  },
  {
   "cell_type": "code",
   "execution_count": 18,
   "id": "61fb2379",
   "metadata": {
    "scrolled": false
   },
   "outputs": [
    {
     "data": {
      "text/plain": [
       "(804414, 1)"
      ]
     },
     "execution_count": 18,
     "metadata": {},
     "output_type": "execute_result"
    }
   ],
   "source": [
    "Y.shape"
   ]
  },
  {
   "cell_type": "code",
   "execution_count": 19,
   "id": "7c603de4",
   "metadata": {
    "scrolled": false
   },
   "outputs": [
    {
     "data": {
      "text/plain": [
       "32615"
      ]
     },
     "execution_count": 19,
     "metadata": {},
     "output_type": "execute_result"
    }
   ],
   "source": [
    "Y.indices.shape[0]"
   ]
  },
  {
   "cell_type": "markdown",
   "id": "dd950d13",
   "metadata": {},
   "source": [
    "## Sparse matrix - validation"
   ]
  },
  {
   "cell_type": "code",
   "execution_count": 20,
   "id": "12bec91d",
   "metadata": {},
   "outputs": [
    {
     "data": {
      "text/plain": [
       "array([[771720.,  32615.],\n",
       "       [    79.,      0.]])"
      ]
     },
     "execution_count": 20,
     "metadata": {},
     "output_type": "execute_result"
    }
   ],
   "source": [
    "freq2(X[:, 0], Y, prob=False)"
   ]
  },
  {
   "cell_type": "code",
   "execution_count": 21,
   "id": "787b9385",
   "metadata": {
    "scrolled": true
   },
   "outputs": [
    {
     "data": {
      "text/plain": [
       "804414.0"
      ]
     },
     "execution_count": 21,
     "metadata": {},
     "output_type": "execute_result"
    }
   ],
   "source": [
    "freq2(X[:, 0], Y, prob=False).sum()"
   ]
  },
  {
   "cell_type": "code",
   "execution_count": 22,
   "id": "57a87b6f",
   "metadata": {
    "scrolled": true
   },
   "outputs": [
    {
     "data": {
      "text/plain": [
       "array([[0.95935675, 0.04054504],\n",
       "       [0.00009821, 0.        ]])"
      ]
     },
     "execution_count": 22,
     "metadata": {},
     "output_type": "execute_result"
    }
   ],
   "source": [
    "freq2(X[:, 0], Y, prob=True)"
   ]
  },
  {
   "cell_type": "code",
   "execution_count": 23,
   "id": "35d6b87b",
   "metadata": {
    "scrolled": false
   },
   "outputs": [
    {
     "data": {
      "text/plain": [
       "1.0"
      ]
     },
     "execution_count": 23,
     "metadata": {},
     "output_type": "execute_result"
    }
   ],
   "source": [
    "freq2(X[:, 0], Y, prob=True).sum()"
   ]
  },
  {
   "cell_type": "markdown",
   "id": "74b87ded",
   "metadata": {},
   "source": [
    "# Main loop"
   ]
  },
  {
   "cell_type": "code",
   "execution_count": 24,
   "id": "224cc45b",
   "metadata": {
    "scrolled": true
   },
   "outputs": [
    {
     "name": "stdout",
     "output_type": "stream",
     "text": [
      "Czas: 40.23620367050171 sekund\n"
     ]
    }
   ],
   "source": [
    "kappa_values = []\n",
    "info_gain_values = []\n",
    "gini_gain_values = []\n",
    "t0 = time.time()\n",
    "for i in range(X.shape[1]):\n",
    "    pij = freq2(X[:, i], Y, True)\n",
    "    kappa_values.append(kappa(pij))\n",
    "    info_gain_values.append(infoGain(pij))    \n",
    "    gini_gain_values.append(giniGain(pij))\n",
    "t1 = time.time()\n",
    "print(f\"Czas: {t1-t0} sekund\")"
   ]
  },
  {
   "cell_type": "markdown",
   "id": "7a0b7cf0",
   "metadata": {},
   "source": [
    "## Load column names"
   ]
  },
  {
   "cell_type": "code",
   "execution_count": 25,
   "id": "f778802b",
   "metadata": {},
   "outputs": [
    {
     "data": {
      "text/html": [
       "<div>\n",
       "<style scoped>\n",
       "    .dataframe tbody tr th:only-of-type {\n",
       "        vertical-align: middle;\n",
       "    }\n",
       "\n",
       "    .dataframe tbody tr th {\n",
       "        vertical-align: top;\n",
       "    }\n",
       "\n",
       "    .dataframe thead th {\n",
       "        text-align: right;\n",
       "    }\n",
       "</style>\n",
       "<table border=\"1\" class=\"dataframe\">\n",
       "  <thead>\n",
       "    <tr style=\"text-align: right;\">\n",
       "      <th></th>\n",
       "      <th>0</th>\n",
       "      <th>1</th>\n",
       "      <th>2</th>\n",
       "    </tr>\n",
       "  </thead>\n",
       "  <tbody>\n",
       "    <tr>\n",
       "      <th>0</th>\n",
       "      <td>_</td>\n",
       "      <td>1</td>\n",
       "      <td>10.056509</td>\n",
       "    </tr>\n",
       "    <tr>\n",
       "      <th>1</th>\n",
       "      <td>_____</td>\n",
       "      <td>2</td>\n",
       "      <td>8.447071</td>\n",
       "    </tr>\n",
       "    <tr>\n",
       "      <th>2</th>\n",
       "      <td>______</td>\n",
       "      <td>3</td>\n",
       "      <td>8.447071</td>\n",
       "    </tr>\n",
       "    <tr>\n",
       "      <th>3</th>\n",
       "      <td>_______</td>\n",
       "      <td>4</td>\n",
       "      <td>8.447071</td>\n",
       "    </tr>\n",
       "    <tr>\n",
       "      <th>4</th>\n",
       "      <td>____________</td>\n",
       "      <td>5</td>\n",
       "      <td>8.447071</td>\n",
       "    </tr>\n",
       "    <tr>\n",
       "      <th>...</th>\n",
       "      <td>...</td>\n",
       "      <td>...</td>\n",
       "      <td>...</td>\n",
       "    </tr>\n",
       "    <tr>\n",
       "      <th>47231</th>\n",
       "      <td>zynax</td>\n",
       "      <td>47232</td>\n",
       "      <td>10.056509</td>\n",
       "    </tr>\n",
       "    <tr>\n",
       "      <th>47232</th>\n",
       "      <td>zyprex</td>\n",
       "      <td>47233</td>\n",
       "      <td>10.056509</td>\n",
       "    </tr>\n",
       "    <tr>\n",
       "      <th>47233</th>\n",
       "      <td>zyrech</td>\n",
       "      <td>47234</td>\n",
       "      <td>9.363362</td>\n",
       "    </tr>\n",
       "    <tr>\n",
       "      <th>47234</th>\n",
       "      <td>zyuganov</td>\n",
       "      <td>47235</td>\n",
       "      <td>8.447071</td>\n",
       "    </tr>\n",
       "    <tr>\n",
       "      <th>47235</th>\n",
       "      <td>zywnosciowej</td>\n",
       "      <td>47236</td>\n",
       "      <td>8.957897</td>\n",
       "    </tr>\n",
       "  </tbody>\n",
       "</table>\n",
       "<p>47236 rows × 3 columns</p>\n",
       "</div>"
      ],
      "text/plain": [
       "                  0      1          2\n",
       "0                 _      1  10.056509\n",
       "1             _____      2   8.447071\n",
       "2            ______      3   8.447071\n",
       "3           _______      4   8.447071\n",
       "4      ____________      5   8.447071\n",
       "...             ...    ...        ...\n",
       "47231         zynax  47232  10.056509\n",
       "47232        zyprex  47233  10.056509\n",
       "47233        zyrech  47234   9.363362\n",
       "47234      zyuganov  47235   8.447071\n",
       "47235  zywnosciowej  47236   8.957897\n",
       "\n",
       "[47236 rows x 3 columns]"
      ]
     },
     "execution_count": 25,
     "metadata": {},
     "output_type": "execute_result"
    }
   ],
   "source": [
    "names = pd.read_csv(\"dane.txt\", sep=\" \", header=None)\n",
    "names"
   ]
  },
  {
   "cell_type": "markdown",
   "id": "c96717ec",
   "metadata": {},
   "source": [
    "## Top 30 by Info Gain"
   ]
  },
  {
   "cell_type": "code",
   "execution_count": 26,
   "id": "aaf78ccd",
   "metadata": {},
   "outputs": [],
   "source": [
    "info_gain_indexes = np.array(info_gain_values).argsort()[::-1][:30]"
   ]
  },
  {
   "cell_type": "code",
   "execution_count": 27,
   "id": "d348187f",
   "metadata": {
    "scrolled": false
   },
   "outputs": [
    {
     "name": "stdout",
     "output_type": "stream",
     "text": [
      "rebel :  0.0485791461342458\n",
      "milit :  0.046896090743684504\n",
      "kill :  0.04420070014972033\n",
      "troop :  0.037755524347903024\n",
      "forc :  0.03523924387133781\n",
      "army :  0.0349295789270756\n",
      "attack :  0.033536408584291466\n",
      "guerrill :  0.03350810842148294\n",
      "peac :  0.032279020915216394\n",
      "peopl :  0.03092751871814725\n",
      "fight :  0.028632749859780315\n",
      "war :  0.026442784449019596\n",
      "violent :  0.025927740511501707\n",
      "soldy :  0.025783267109595387\n",
      "bomb :  0.023376174679855533\n",
      "town :  0.02301883649201225\n",
      "arm :  0.02193027303463757\n",
      "told :  0.020698193188331437\n",
      "govern :  0.02064174741489777\n",
      "polic :  0.018967922791001346\n",
      "newsroom :  0.0189620271094042\n",
      "protest :  0.01820241087481822\n",
      "wound :  0.017882082743843897\n",
      "civil :  0.017655816651594325\n",
      "mile :  0.016447133256494495\n",
      "km :  0.01618650546051381\n",
      "presid :  0.015999236901444225\n",
      "offic :  0.015929284911100905\n",
      "polit :  0.015345306369505596\n",
      "zair :  0.015179078422745018\n"
     ]
    }
   ],
   "source": [
    "for i in info_gain_indexes:\n",
    "    print(names.iloc[i, 0], \": \", info_gain_values[i])"
   ]
  },
  {
   "cell_type": "markdown",
   "id": "ae31813e",
   "metadata": {},
   "source": [
    "## Top 30 by Gini Gain"
   ]
  },
  {
   "cell_type": "code",
   "execution_count": 28,
   "id": "fae522ea",
   "metadata": {},
   "outputs": [],
   "source": [
    "gini_gain_indexes = np.array(gini_gain_values).argsort()[::-1][:30]"
   ]
  },
  {
   "cell_type": "code",
   "execution_count": 29,
   "id": "f586d853",
   "metadata": {
    "scrolled": false
   },
   "outputs": [
    {
     "name": "stdout",
     "output_type": "stream",
     "text": [
      "rebel :  0.016665209902267483\n",
      "milit :  0.012669550571428462\n",
      "guerrill :  0.012284420969846555\n",
      "troop :  0.011979463224383924\n",
      "kill :  0.011813403876488549\n",
      "army :  0.010410380003016959\n",
      "attack :  0.008827816061498281\n",
      "peac :  0.008664214311680504\n",
      "soldy :  0.008596449533179756\n",
      "violent :  0.007888371165926625\n",
      "bomb :  0.007513588523458542\n",
      "fight :  0.0072102865711003855\n",
      "forc :  0.006985486095982263\n",
      "wound :  0.0059241618642858485\n",
      "town :  0.005749718521779135\n",
      "war :  0.005708207576439431\n",
      "arm :  0.005376015468844614\n",
      "peopl :  0.005343720889144338\n",
      "zair :  0.0053162611539297605\n",
      "refug :  0.004641364335312523\n",
      "ceasefir :  0.004583103329156471\n",
      "protest :  0.004560685827708064\n",
      "rwand :  0.004477729382004539\n",
      "civil :  0.004279748559459978\n",
      "zairean :  0.004205323646924747\n",
      "tuts :  0.004157096249955555\n",
      "km :  0.004139260658117552\n",
      "mile :  0.004040691032257515\n",
      "terror :  0.0040029641242528\n",
      "command :  0.003917827525482531\n"
     ]
    }
   ],
   "source": [
    "for i in gini_gain_indexes:\n",
    "    print(names.iloc[i, 0], \": \", gini_gain_values[i])"
   ]
  },
  {
   "cell_type": "markdown",
   "id": "20e5c825",
   "metadata": {},
   "source": [
    "## Top 30 by Kappa"
   ]
  },
  {
   "cell_type": "code",
   "execution_count": 30,
   "id": "76bff6f0",
   "metadata": {},
   "outputs": [],
   "source": [
    "kappa_indexes = np.array(kappa_values).argsort()[::-1][:30]"
   ]
  },
  {
   "cell_type": "code",
   "execution_count": 31,
   "id": "8f382806",
   "metadata": {
    "scrolled": false
   },
   "outputs": [
    {
     "name": "stdout",
     "output_type": "stream",
     "text": [
      "rebel :  0.19845587140078558\n",
      "milit :  0.19158024161456785\n",
      "kill :  0.18056901289489433\n",
      "troop :  0.15423913512087437\n",
      "forc :  0.14395960831969257\n",
      "army :  0.14269456289905044\n",
      "attack :  0.13700317356044645\n",
      "guerrill :  0.13688756153516637\n",
      "peac :  0.13186648456090494\n",
      "peopl :  0.12634531822590497\n",
      "fight :  0.1169707122541959\n",
      "war :  0.10802425006795269\n",
      "violent :  0.10592018893136156\n",
      "soldy :  0.10532998516799524\n",
      "bomb :  0.09549651414802009\n",
      "town :  0.09403671365549487\n",
      "arm :  0.08958970651973028\n",
      "told :  0.08455640521677396\n",
      "govern :  0.08432581254388684\n",
      "polic :  0.07748789235093953\n",
      "newsroom :  0.07746380727077992\n",
      "protest :  0.07436061765627976\n",
      "wound :  0.07305201090985759\n",
      "civil :  0.0721276670693603\n",
      "mile :  0.06718994511436104\n",
      "km :  0.06612522659873137\n",
      "presid :  0.06536019575662087\n",
      "offic :  0.0650744273908809\n",
      "polit :  0.06268875412212001\n",
      "zair :  0.0620096785382399\n"
     ]
    }
   ],
   "source": [
    "for i in kappa_indexes:\n",
    "    print(names.iloc[i, 0], \": \", kappa_values[i])"
   ]
  }
 ],
 "metadata": {
  "kernelspec": {
   "display_name": "Python 3",
   "language": "python",
   "name": "python3"
  },
  "language_info": {
   "codemirror_mode": {
    "name": "ipython",
    "version": 3
   },
   "file_extension": ".py",
   "mimetype": "text/x-python",
   "name": "python",
   "nbconvert_exporter": "python",
   "pygments_lexer": "ipython3",
   "version": "3.9.4"
  },
  "latex_envs": {
   "LaTeX_envs_menu_present": true,
   "autoclose": false,
   "autocomplete": true,
   "bibliofile": "biblio.bib",
   "cite_by": "apalike",
   "current_citInitial": 1,
   "eqLabelWithNumbers": true,
   "eqNumInitial": 1,
   "hotkeys": {
    "equation": "Ctrl-E",
    "itemize": "Ctrl-I"
   },
   "labels_anchors": false,
   "latex_user_defs": false,
   "report_style_numbering": false,
   "user_envs_cfg": false
  },
  "varInspector": {
   "cols": {
    "lenName": 16,
    "lenType": 16,
    "lenVar": 40
   },
   "kernels_config": {
    "python": {
     "delete_cmd_postfix": "",
     "delete_cmd_prefix": "del ",
     "library": "var_list.py",
     "varRefreshCmd": "print(var_dic_list())"
    },
    "r": {
     "delete_cmd_postfix": ") ",
     "delete_cmd_prefix": "rm(",
     "library": "var_list.r",
     "varRefreshCmd": "cat(var_dic_list()) "
    }
   },
   "types_to_exclude": [
    "module",
    "function",
    "builtin_function_or_method",
    "instance",
    "_Feature"
   ],
   "window_display": false
  }
 },
 "nbformat": 4,
 "nbformat_minor": 5
}
